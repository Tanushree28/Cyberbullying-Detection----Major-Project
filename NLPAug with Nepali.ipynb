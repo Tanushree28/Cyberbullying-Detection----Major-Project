{
 "cells": [
  {
   "cell_type": "markdown",
   "id": "f56031d8",
   "metadata": {},
   "source": [
    "# Hate and Offense Detection With Undectable Class"
   ]
  },
  {
   "cell_type": "raw",
   "id": "1e46980e",
   "metadata": {
    "pycharm": {
     "name": "#%% raw\n"
    }
   },
   "source": [
    "Using NLPAug which has twiiter neplai dataset working on random forest. The web application is running on app.py."
   ]
  },
  {
   "cell_type": "code",
   "execution_count": 1,
   "id": "0ef1a630",
   "metadata": {},
   "outputs": [],
   "source": [
    "# pip install nlpaug"
   ]
  },
  {
   "cell_type": "code",
   "execution_count": 2,
   "id": "30a4a4c2",
   "metadata": {},
   "outputs": [
    {
     "name": "stderr",
     "output_type": "stream",
     "text": [
      "[nltk_data] Downloading package wordnet to\n",
      "[nltk_data]     C:\\Users\\acer\\AppData\\Roaming\\nltk_data...\n",
      "[nltk_data]   Package wordnet is already up-to-date!\n",
      "[nltk_data] Downloading package stopwords to\n",
      "[nltk_data]     C:\\Users\\acer\\AppData\\Roaming\\nltk_data...\n",
      "[nltk_data]   Package stopwords is already up-to-date!\n"
     ]
    }
   ],
   "source": [
    "import numpy as np\n",
    "import pandas as pd \n",
    "import matplotlib.pyplot as plt\n",
    "import seaborn as sns\n",
    "\n",
    "import warnings\n",
    "warnings.filterwarnings(\"ignore\")\n",
    "\n",
    "import re\n",
    "from bs4 import BeautifulSoup\n",
    "from tqdm import tqdm\n",
    "from nltk.stem import WordNetLemmatizer\n",
    "import nltk\n",
    "from nltk.corpus import stopwords\n",
    "nltk.download('wordnet')\n",
    "nltk.download('stopwords')\n",
    "import re\n",
    "from nltk.stem import PorterStemmer\n",
    "from nltk.tokenize import TweetTokenizer\n",
    "import string\n",
    "\n",
    "from sklearn.model_selection import train_test_split\n",
    "from sklearn.metrics import accuracy_score,f1_score, confusion_matrix\n",
    "\n",
    "import nlpaug.augmenter.char as nac\n",
    "import nlpaug.augmenter.word as naw\n",
    "import nlpaug.augmenter.sentence as nas\n",
    "import nlpaug.flow as nafc\n",
    "\n",
    "from nlpaug.util import Action"
   ]
  },
  {
   "cell_type": "code",
   "execution_count": 3,
   "id": "0176abba",
   "metadata": {},
   "outputs": [],
   "source": [
    "data=pd.read_csv(\"src/twitter_nepali.csv\",encoding= 'unicode_escape')"
   ]
  },
  {
   "cell_type": "code",
   "execution_count": 4,
   "id": "3c3e7d5e",
   "metadata": {},
   "outputs": [
    {
     "data": {
      "text/plain": [
       "<bound method DataFrame.info of        Unnamed: 0  count  hate_speech  offensive_language  neither  class  \\\n",
       "0               0      3            0                   0        3      2   \n",
       "1               1      3            0                   3        0      1   \n",
       "2               2      3            0                   3        0      1   \n",
       "3               3      3            0                   2        1      1   \n",
       "4               4      6            0                   6        0      1   \n",
       "...           ...    ...          ...                 ...      ...    ...   \n",
       "24817       25327      3            0                   0        3      3   \n",
       "24818       25328      3            0                   0        3      3   \n",
       "24819       25329      3            0                   0        3      3   \n",
       "24820       25330      3            0                   0        3      3   \n",
       "24821       25331      3            0                   0        3      3   \n",
       "\n",
       "                                                   tweet  \n",
       "0      !!! RT @mayasolovely: As a woman you shouldn't...  \n",
       "1      !!!!! RT @mleew17: boy dats cold...tyga dwn ba...  \n",
       "2      !!!!!!! RT @UrKindOfBrand Dawg!!!! RT @80sbaby...  \n",
       "3      !!!!!!!!! RT @C_G_Anderson: @viva_based she lo...  \n",
       "4      !!!!!!!!!!!!! RT @ShenikaRoberts: The shit you...  \n",
       "...                                                  ...  \n",
       "24817                           !!!!aaba ta aati bho hai  \n",
       "24818                  !!!!!aada mental pagal bahi sakyo  \n",
       "24819      !!!!!aaba pura mental huna baki cha ani skayo  \n",
       "24820                          !!!!!bho hauu bho ati bho  \n",
       "24821  !!! a yaar double meaning word detect garnu parna  \n",
       "\n",
       "[24822 rows x 7 columns]>"
      ]
     },
     "execution_count": 4,
     "metadata": {},
     "output_type": "execute_result"
    }
   ],
   "source": [
    "data.info"
   ]
  },
  {
   "cell_type": "code",
   "execution_count": 5,
   "id": "6a282994",
   "metadata": {},
   "outputs": [
    {
     "data": {
      "text/html": [
       "<div>\n",
       "<style scoped>\n",
       "    .dataframe tbody tr th:only-of-type {\n",
       "        vertical-align: middle;\n",
       "    }\n",
       "\n",
       "    .dataframe tbody tr th {\n",
       "        vertical-align: top;\n",
       "    }\n",
       "\n",
       "    .dataframe thead th {\n",
       "        text-align: right;\n",
       "    }\n",
       "</style>\n",
       "<table border=\"1\" class=\"dataframe\">\n",
       "  <thead>\n",
       "    <tr style=\"text-align: right;\">\n",
       "      <th></th>\n",
       "      <th>Unnamed: 0</th>\n",
       "      <th>count</th>\n",
       "      <th>hate_speech</th>\n",
       "      <th>offensive_language</th>\n",
       "      <th>neither</th>\n",
       "      <th>class</th>\n",
       "      <th>tweet</th>\n",
       "    </tr>\n",
       "  </thead>\n",
       "  <tbody>\n",
       "    <tr>\n",
       "      <th>0</th>\n",
       "      <td>0</td>\n",
       "      <td>3</td>\n",
       "      <td>0</td>\n",
       "      <td>0</td>\n",
       "      <td>3</td>\n",
       "      <td>2</td>\n",
       "      <td>!!! RT @mayasolovely: As a woman you shouldn't...</td>\n",
       "    </tr>\n",
       "    <tr>\n",
       "      <th>1</th>\n",
       "      <td>1</td>\n",
       "      <td>3</td>\n",
       "      <td>0</td>\n",
       "      <td>3</td>\n",
       "      <td>0</td>\n",
       "      <td>1</td>\n",
       "      <td>!!!!! RT @mleew17: boy dats cold...tyga dwn ba...</td>\n",
       "    </tr>\n",
       "    <tr>\n",
       "      <th>2</th>\n",
       "      <td>2</td>\n",
       "      <td>3</td>\n",
       "      <td>0</td>\n",
       "      <td>3</td>\n",
       "      <td>0</td>\n",
       "      <td>1</td>\n",
       "      <td>!!!!!!! RT @UrKindOfBrand Dawg!!!! RT @80sbaby...</td>\n",
       "    </tr>\n",
       "    <tr>\n",
       "      <th>3</th>\n",
       "      <td>3</td>\n",
       "      <td>3</td>\n",
       "      <td>0</td>\n",
       "      <td>2</td>\n",
       "      <td>1</td>\n",
       "      <td>1</td>\n",
       "      <td>!!!!!!!!! RT @C_G_Anderson: @viva_based she lo...</td>\n",
       "    </tr>\n",
       "    <tr>\n",
       "      <th>4</th>\n",
       "      <td>4</td>\n",
       "      <td>6</td>\n",
       "      <td>0</td>\n",
       "      <td>6</td>\n",
       "      <td>0</td>\n",
       "      <td>1</td>\n",
       "      <td>!!!!!!!!!!!!! RT @ShenikaRoberts: The shit you...</td>\n",
       "    </tr>\n",
       "    <tr>\n",
       "      <th>5</th>\n",
       "      <td>5</td>\n",
       "      <td>3</td>\n",
       "      <td>1</td>\n",
       "      <td>2</td>\n",
       "      <td>0</td>\n",
       "      <td>1</td>\n",
       "      <td>!!!!!!!!!!!!!!!!!!\"@T_Madison_x: The shit just...</td>\n",
       "    </tr>\n",
       "    <tr>\n",
       "      <th>6</th>\n",
       "      <td>6</td>\n",
       "      <td>3</td>\n",
       "      <td>0</td>\n",
       "      <td>3</td>\n",
       "      <td>0</td>\n",
       "      <td>1</td>\n",
       "      <td>!!!!!!\"@__BrighterDays: I can not just sit up ...</td>\n",
       "    </tr>\n",
       "    <tr>\n",
       "      <th>7</th>\n",
       "      <td>7</td>\n",
       "      <td>3</td>\n",
       "      <td>0</td>\n",
       "      <td>3</td>\n",
       "      <td>0</td>\n",
       "      <td>1</td>\n",
       "      <td>!!!!&amp;#8220;@selfiequeenbri: cause I'm tired of...</td>\n",
       "    </tr>\n",
       "    <tr>\n",
       "      <th>8</th>\n",
       "      <td>8</td>\n",
       "      <td>3</td>\n",
       "      <td>0</td>\n",
       "      <td>3</td>\n",
       "      <td>0</td>\n",
       "      <td>1</td>\n",
       "      <td>\" &amp;amp; you might not get ya bitch back &amp;amp; ...</td>\n",
       "    </tr>\n",
       "    <tr>\n",
       "      <th>9</th>\n",
       "      <td>9</td>\n",
       "      <td>3</td>\n",
       "      <td>1</td>\n",
       "      <td>2</td>\n",
       "      <td>0</td>\n",
       "      <td>1</td>\n",
       "      <td>\" @rhythmixx_ :hobbies include: fighting Maria...</td>\n",
       "    </tr>\n",
       "    <tr>\n",
       "      <th>10</th>\n",
       "      <td>10</td>\n",
       "      <td>3</td>\n",
       "      <td>0</td>\n",
       "      <td>3</td>\n",
       "      <td>0</td>\n",
       "      <td>1</td>\n",
       "      <td>\" Keeks is a bitch she curves everyone \" lol I...</td>\n",
       "    </tr>\n",
       "    <tr>\n",
       "      <th>11</th>\n",
       "      <td>11</td>\n",
       "      <td>3</td>\n",
       "      <td>0</td>\n",
       "      <td>3</td>\n",
       "      <td>0</td>\n",
       "      <td>1</td>\n",
       "      <td>\" Murda Gang bitch its Gang Land \"</td>\n",
       "    </tr>\n",
       "    <tr>\n",
       "      <th>12</th>\n",
       "      <td>12</td>\n",
       "      <td>3</td>\n",
       "      <td>0</td>\n",
       "      <td>2</td>\n",
       "      <td>1</td>\n",
       "      <td>1</td>\n",
       "      <td>\" So hoes that smoke are losers ? \" yea ... go...</td>\n",
       "    </tr>\n",
       "    <tr>\n",
       "      <th>13</th>\n",
       "      <td>13</td>\n",
       "      <td>3</td>\n",
       "      <td>0</td>\n",
       "      <td>3</td>\n",
       "      <td>0</td>\n",
       "      <td>1</td>\n",
       "      <td>\" bad bitches is the only thing that i like \"</td>\n",
       "    </tr>\n",
       "    <tr>\n",
       "      <th>14</th>\n",
       "      <td>14</td>\n",
       "      <td>3</td>\n",
       "      <td>0</td>\n",
       "      <td>0</td>\n",
       "      <td>3</td>\n",
       "      <td>3</td>\n",
       "      <td>!!!!!kya jhuu jo ke pagal</td>\n",
       "    </tr>\n",
       "  </tbody>\n",
       "</table>\n",
       "</div>"
      ],
      "text/plain": [
       "    Unnamed: 0  count  hate_speech  offensive_language  neither  class  \\\n",
       "0            0      3            0                   0        3      2   \n",
       "1            1      3            0                   3        0      1   \n",
       "2            2      3            0                   3        0      1   \n",
       "3            3      3            0                   2        1      1   \n",
       "4            4      6            0                   6        0      1   \n",
       "5            5      3            1                   2        0      1   \n",
       "6            6      3            0                   3        0      1   \n",
       "7            7      3            0                   3        0      1   \n",
       "8            8      3            0                   3        0      1   \n",
       "9            9      3            1                   2        0      1   \n",
       "10          10      3            0                   3        0      1   \n",
       "11          11      3            0                   3        0      1   \n",
       "12          12      3            0                   2        1      1   \n",
       "13          13      3            0                   3        0      1   \n",
       "14          14      3            0                   0        3      3   \n",
       "\n",
       "                                                tweet  \n",
       "0   !!! RT @mayasolovely: As a woman you shouldn't...  \n",
       "1   !!!!! RT @mleew17: boy dats cold...tyga dwn ba...  \n",
       "2   !!!!!!! RT @UrKindOfBrand Dawg!!!! RT @80sbaby...  \n",
       "3   !!!!!!!!! RT @C_G_Anderson: @viva_based she lo...  \n",
       "4   !!!!!!!!!!!!! RT @ShenikaRoberts: The shit you...  \n",
       "5   !!!!!!!!!!!!!!!!!!\"@T_Madison_x: The shit just...  \n",
       "6   !!!!!!\"@__BrighterDays: I can not just sit up ...  \n",
       "7   !!!!&#8220;@selfiequeenbri: cause I'm tired of...  \n",
       "8   \" &amp; you might not get ya bitch back &amp; ...  \n",
       "9   \" @rhythmixx_ :hobbies include: fighting Maria...  \n",
       "10  \" Keeks is a bitch she curves everyone \" lol I...  \n",
       "11                 \" Murda Gang bitch its Gang Land \"  \n",
       "12  \" So hoes that smoke are losers ? \" yea ... go...  \n",
       "13      \" bad bitches is the only thing that i like \"  \n",
       "14                         !!!!!kya jhuu jo ke pagal   "
      ]
     },
     "execution_count": 5,
     "metadata": {},
     "output_type": "execute_result"
    }
   ],
   "source": [
    "data.head(15)"
   ]
  },
  {
   "cell_type": "code",
   "execution_count": 6,
   "id": "8a5343f9",
   "metadata": {},
   "outputs": [
    {
     "data": {
      "image/png": "[encoded data removed]",
      "text/plain": [
       "<Figure size 720x360 with 1 Axes>"
      ]
     },
     "metadata": {
      "needs_background": "light"
     },
     "output_type": "display_data"
    }
   ],
   "source": [
    "plt.figure(figsize = (10,5))\n",
    "ax = sns.countplot(data['class'], palette='Set2')\n",
    "\n",
    "ax.set_title('Amount of Tweets Per Label',fontsize = 20)\n",
    "ax.set_xlabel('Type of Tweet',fontsize = 15)\n",
    "ax.set_ylabel('Count',fontsize = 15)\n",
    "ax.set_xticklabels(['Hate Speech','Offensive', 'Not Hate Speech','Gibberish Undetectable'],fontsize = 13)\n",
    "\n",
    "total = float(len(data)) # one person per row \n",
    "for p in ax.patches:\n",
    "    height = p.get_height()\n",
    "    ax.text(p.get_x()+p.get_width()/2.,\n",
    "            height + 3,\n",
    "            '{:1.2f}'.format(height/total * 100) + '%',\n",
    "            ha=\"center\") \n",
    "\n",
    "plt.savefig(r'C:\\Users\\acer\\Desktop\\Projet\\visualizations\\class_imbalance_neplai.png', bbox_inches = \"tight\", pad_inches=.5)"
   ]
  },
  {
   "cell_type": "code",
   "execution_count": 7,
   "id": "2cc36e4b",
   "metadata": {},
   "outputs": [
    {
     "data": {
      "text/plain": [
       "<bound method NDFrame.head of                                                    tweet  class\n",
       "0      !!! RT @mayasolovely: As a woman you shouldn't...      2\n",
       "1      !!!!! RT @mleew17: boy dats cold...tyga dwn ba...      1\n",
       "2      !!!!!!! RT @UrKindOfBrand Dawg!!!! RT @80sbaby...      1\n",
       "3      !!!!!!!!! RT @C_G_Anderson: @viva_based she lo...      1\n",
       "4      !!!!!!!!!!!!! RT @ShenikaRoberts: The shit you...      1\n",
       "...                                                  ...    ...\n",
       "24817                           !!!!aaba ta aati bho hai      3\n",
       "24818                  !!!!!aada mental pagal bahi sakyo      3\n",
       "24819      !!!!!aaba pura mental huna baki cha ani skayo      3\n",
       "24820                          !!!!!bho hauu bho ati bho      3\n",
       "24821  !!! a yaar double meaning word detect garnu parna      3\n",
       "\n",
       "[24822 rows x 2 columns]>"
      ]
     },
     "execution_count": 7,
     "metadata": {},
     "output_type": "execute_result"
    }
   ],
   "source": [
    "data=data[['tweet','class']]\n",
    "data.head"
   ]
  },
  {
   "cell_type": "code",
   "execution_count": 8,
   "id": "84260d37",
   "metadata": {},
   "outputs": [
    {
     "data": {
      "text/plain": [
       "'!!!!! RT @mleew17: boy dats cold...tyga dwn bad for cuffin dat hoe in the 1st place!!'"
      ]
     },
     "execution_count": 8,
     "metadata": {},
     "output_type": "execute_result"
    }
   ],
   "source": [
    "data['tweet'].loc[1]"
   ]
  },
  {
   "cell_type": "code",
   "execution_count": 9,
   "id": "a46a973c",
   "metadata": {},
   "outputs": [
    {
     "data": {
      "text/plain": [
       "0        !!! RT @mayasolovely: As a woman you shouldn't...\n",
       "1        !!!!! RT @mleew17: boy dats cold...tyga dwn ba...\n",
       "2        !!!!!!! RT @UrKindOfBrand Dawg!!!! RT @80sbaby...\n",
       "3        !!!!!!!!! RT @C_G_Anderson: @viva_based she lo...\n",
       "4        !!!!!!!!!!!!! RT @ShenikaRoberts: The shit you...\n",
       "                               ...                        \n",
       "24817                             !!!!aaba ta aati bho hai\n",
       "24818                    !!!!!aada mental pagal bahi sakyo\n",
       "24819        !!!!!aaba pura mental huna baki cha ani skayo\n",
       "24820                            !!!!!bho hauu bho ati bho\n",
       "24821    !!! a yaar double meaning word detect garnu parna\n",
       "Name: tweet, Length: 24822, dtype: object"
      ]
     },
     "execution_count": 9,
     "metadata": {},
     "output_type": "execute_result"
    }
   ],
   "source": [
    "tweet=data.tweet\n",
    "tweet"
   ]
  },
  {
   "cell_type": "code",
   "execution_count": 10,
   "id": "267558b5",
   "metadata": {},
   "outputs": [],
   "source": [
    "def decontract(text):\n",
    "    text = re.sub(r\"won\\'t\", \"will not\", text)\n",
    "    text = re.sub(r\"can\\'t\", \"can not\", text)\n",
    "    text = re.sub(r\"n\\'t\", \" not\", text)\n",
    "    text = re.sub(r\"\\'re\", \" are\", text)\n",
    "    text = re.sub(r\"\\'s\", \" is\", text)\n",
    "    text = re.sub(r\"\\'d\", \" would\", text)\n",
    "    text = re.sub(r\"\\'ll\", \" will\", text)\n",
    "    text = re.sub(r\"\\'t\", \" not\", text)\n",
    "    text = re.sub(r\"\\'ve\", \" have\", text)\n",
    "    text = re.sub(r\"\\'m\", \" am\", text)\n",
    "    return text\n",
    "lemmatizer = WordNetLemmatizer()"
   ]
  },
  {
   "cell_type": "code",
   "execution_count": 11,
   "id": "296abc6b",
   "metadata": {},
   "outputs": [],
   "source": [
    "def process_tweet(text):\n",
    "\n",
    "    stemmer = PorterStemmer()\n",
    "    stopwords_english = stopwords.words('english')\n",
    "    # remove stock market tickers like $GE\n",
    "    text = re.sub(r'\\$\\w*', '', text)\n",
    "    # remove old style retweet text \"RT\"\n",
    "    text = re.sub(r'^RT[\\s]+', '', text)\n",
    "    # remove hyperlinks\n",
    "    text = re.sub(r'https?:\\/\\/.*[\\r\\n]*', '', text)\n",
    "    # remove attherate\n",
    "    # only removing the hash # sign from the word\n",
    "    text = re.sub(r'@', '', text)\n",
    "    # remove hashtags\n",
    "    # only removing the hash # sign from the word\n",
    "    text = re.sub(r'#', '', text)\n",
    "    text = str(re.sub(\"\\S*\\d\\S*\", \"\", text).strip()) \n",
    "    text=decontract(text)\n",
    "    # tokenize texts\n",
    "    tokenizer = TweetTokenizer(preserve_case=False, strip_handles=True,\n",
    "                               reduce_len=True)\n",
    "    tokens = tokenizer.tokenize(text)\n",
    "\n",
    "    texts_clean = []\n",
    "    for word in tokens:\n",
    "        if (word not in stopwords_english and  # remove stopwords\n",
    "                word not in string.punctuation+'...'):  # remove punctuation\n",
    "            # \n",
    "            stem_word = lemmatizer.lemmatize(word,\"v\")  # Lemmatizing word\n",
    "            texts_clean.append(stem_word)\n",
    "\n",
    "    return \" \".join(texts_clean)"
   ]
  },
  {
   "cell_type": "code",
   "execution_count": 12,
   "id": "c7e5774c",
   "metadata": {},
   "outputs": [
    {
     "data": {
      "text/plain": [
       "'rt boy dats cold tyga dwn bad cuffin dat hoe place'"
      ]
     },
     "execution_count": 12,
     "metadata": {},
     "output_type": "execute_result"
    }
   ],
   "source": [
    "process_tweet(data['tweet'].loc[1])"
   ]
  },
  {
   "cell_type": "code",
   "execution_count": 13,
   "id": "2e1da6ae",
   "metadata": {},
   "outputs": [],
   "source": [
    "data['tweet']=data['tweet'].apply(lambda x: process_tweet(str(x)))"
   ]
  },
  {
   "cell_type": "code",
   "execution_count": 14,
   "id": "af89a651",
   "metadata": {},
   "outputs": [],
   "source": [
    "data[\"class\"] = data[\"class\"].map({0: \"Hate Speech\", \n",
    "                                    1: \"Offensive Language\", \n",
    "                                    2: \"No Hate and Offensive\",\n",
    "                                    3: \"Gibberish Undetectable\"})"
   ]
  },
  {
   "cell_type": "code",
   "execution_count": 15,
   "id": "36bfdff4",
   "metadata": {},
   "outputs": [],
   "source": [
    "# data[\"class\"]"
   ]
  },
  {
   "cell_type": "code",
   "execution_count": 16,
   "id": "53722c28",
   "metadata": {},
   "outputs": [],
   "source": [
    "# nepali_df  = data.copy()\n",
    "# nepali_df.head()"
   ]
  },
  {
   "cell_type": "code",
   "execution_count": 17,
   "id": "9d14d697",
   "metadata": {},
   "outputs": [],
   "source": [
    "# data = data['tweet']\n",
    "# target = data['class']"
   ]
  },
  {
   "cell_type": "code",
   "execution_count": 18,
   "id": "f46b6026",
   "metadata": {},
   "outputs": [],
   "source": [
    "# # pickling the raw tweets for later EDA\n",
    "# nepali_df.to_pickle(r\"C:\\Users\\acer\\Desktop\\Projet\\pickel\\nepaliclass.pkl\")"
   ]
  },
  {
   "cell_type": "code",
   "execution_count": 19,
   "id": "aafaf4ba",
   "metadata": {},
   "outputs": [],
   "source": [
    "# # pickling the raw tweets for later EDA\n",
    "# nepali_df.to_pickle(r\"C:\\Users\\acer\\Desktop\\Projet\\pickel\\nepaliclass.npz\")"
   ]
  },
  {
   "cell_type": "code",
   "execution_count": 20,
   "id": "8224fddc",
   "metadata": {},
   "outputs": [],
   "source": [
    "# df = pd.DataFrame(nepali_df)\n",
    "  \n",
    "# # saving the dataframe\n",
    "# df.to_csv(r\"C:\\Users\\acer\\Desktop\\Projet\\src\\neplai_words.csv\", index=False)"
   ]
  },
  {
   "cell_type": "code",
   "execution_count": 21,
   "id": "424093a0",
   "metadata": {},
   "outputs": [],
   "source": [
    "# nepali_df.info()"
   ]
  },
  {
   "cell_type": "code",
   "execution_count": 22,
   "id": "f3ea4be1",
   "metadata": {},
   "outputs": [],
   "source": [
    "# plt.figure(figsize=(10,10))\n",
    "# sns.countplot(nepali_df['class']);\n",
    "# plt.xlabel(\"Sentiment\");"
   ]
  },
  {
   "cell_type": "code",
   "execution_count": 23,
   "id": "ddf01478",
   "metadata": {},
   "outputs": [],
   "source": [
    "X_train, X_test, y_train, y_test = train_test_split(data['tweet'], data['class'], test_size=0.2,random_state=42)"
   ]
  },
  {
   "cell_type": "code",
   "execution_count": 24,
   "id": "8b57109f",
   "metadata": {},
   "outputs": [
    {
     "name": "stdout",
     "output_type": "stream",
     "text": [
      "7306     bitch juss askd yu uh question yo ole choppa b...\n",
      "17399    sportscenter derek jeter leave baseball one gr...\n",
      "14093                    asillypsycho bitch bigger one win\n",
      "22291                             turn fuck nigguh rebound\n",
      "16348                  mabelistocute suppose keep hoe find\n",
      "                               ...                        \n",
      "21575                                                  jig\n",
      "5390     _ajayb cry im bitch (: piss cop try charge hol...\n",
      "860      porn android iphone ipad sex xxx anal anal gap...\n",
      "15795                               jenetteeem choke bitch\n",
      "23654                               bitch know trail mybad\n",
      "Name: tweet, Length: 19857, dtype: object\n"
     ]
    }
   ],
   "source": [
    "print(X_train)"
   ]
  },
  {
   "cell_type": "code",
   "execution_count": 25,
   "id": "3a30b57d",
   "metadata": {},
   "outputs": [
    {
     "name": "stdout",
     "output_type": "stream",
     "text": [
      "5716                  chanelisabeth subtweeting sister hoe\n",
      "11812    update find lot hardcore cock suck ass pound p...\n",
      "8487                                           clan retard\n",
      "19893    rappersaid tupac say ai killer push revenge sw...\n",
      "20554    row hoe curl girls plank skank deep cut sluts ...\n",
      "                               ...                        \n",
      "631                                 love nah bitch ai love\n",
      "18828                    dahliafoxx sick bitch bitch bitch\n",
      "17276                         foxtrot uniform charlie kilo\n",
      "15974    keos_gunnplay u kill carl nigga glenn whos gon...\n",
      "4767     stevestockmantx toddstarnes oh see part giant ...\n",
      "Name: tweet, Length: 4965, dtype: object\n"
     ]
    }
   ],
   "source": [
    "print(X_test)"
   ]
  },
  {
   "cell_type": "code",
   "execution_count": 26,
   "id": "65cb4dde",
   "metadata": {},
   "outputs": [
    {
     "name": "stdout",
     "output_type": "stream",
     "text": [
      "7306        Offensive Language\n",
      "17399    No Hate and Offensive\n",
      "14093       Offensive Language\n",
      "22291       Offensive Language\n",
      "16348       Offensive Language\n",
      "                 ...          \n",
      "21575    No Hate and Offensive\n",
      "5390        Offensive Language\n",
      "860         Offensive Language\n",
      "15795       Offensive Language\n",
      "23654       Offensive Language\n",
      "Name: class, Length: 19857, dtype: object\n"
     ]
    }
   ],
   "source": [
    "print(y_train)"
   ]
  },
  {
   "cell_type": "code",
   "execution_count": 27,
   "id": "ba7fc879",
   "metadata": {},
   "outputs": [
    {
     "name": "stdout",
     "output_type": "stream",
     "text": [
      "5716     Offensive Language\n",
      "11812    Offensive Language\n",
      "8487            Hate Speech\n",
      "19893    Offensive Language\n",
      "20554    Offensive Language\n",
      "                ...        \n",
      "631      Offensive Language\n",
      "18828    Offensive Language\n",
      "17276    Offensive Language\n",
      "15974    Offensive Language\n",
      "4767     Offensive Language\n",
      "Name: class, Length: 4965, dtype: object\n"
     ]
    }
   ],
   "source": [
    "print(y_test)"
   ]
  },
  {
   "cell_type": "code",
   "execution_count": 28,
   "id": "aaec0f4c",
   "metadata": {},
   "outputs": [],
   "source": [
    "from sklearn.feature_extraction.text import TfidfVectorizer\n",
    "from sklearn.feature_selection import SelectKBest, chi2,f_classif, mutual_info_classif\n",
    "\n",
    "\n",
    "vectorizer = TfidfVectorizer(min_df=3,analyzer='word',max_features=10000)\n",
    "X_train_vectorized = vectorizer.fit_transform(X_train)\n",
    "X_test_vectorized=vectorizer.transform(X_test)"
   ]
  },
  {
   "cell_type": "code",
   "execution_count": 29,
   "id": "c8a5fbad",
   "metadata": {},
   "outputs": [
    {
     "data": {
      "text/plain": [
       "RandomForestClassifier(n_estimators=10)"
      ]
     },
     "execution_count": 29,
     "metadata": {},
     "output_type": "execute_result"
    }
   ],
   "source": [
    "from sklearn.ensemble import RandomForestClassifier\n",
    "\n",
    "rf=RandomForestClassifier(n_estimators=10)\n",
    "\n",
    "rf.fit(X_train_vectorized,y_train)"
   ]
  },
  {
   "cell_type": "code",
   "execution_count": 30,
   "id": "3b5958a0",
   "metadata": {},
   "outputs": [
    {
     "name": "stdout",
     "output_type": "stream",
     "text": [
      "[[   27     0     0     8]\n",
      " [    0  1063    10    79]\n",
      " [    0     1  3246    50]\n",
      " [    0    30    48 15295]]\n",
      "                        precision    recall  f1-score   support\n",
      "\n",
      "Gibberish Undetectable       1.00      0.77      0.87        35\n",
      "           Hate Speech       0.97      0.92      0.95      1152\n",
      " No Hate and Offensive       0.98      0.98      0.98      3297\n",
      "    Offensive Language       0.99      0.99      0.99     15373\n",
      "\n",
      "              accuracy                           0.99     19857\n",
      "             macro avg       0.99      0.92      0.95     19857\n",
      "          weighted avg       0.99      0.99      0.99     19857\n",
      "\n",
      "0.9886186231555623\n"
     ]
    }
   ],
   "source": [
    "from sklearn.metrics import classification_report, confusion_matrix, accuracy_score\n",
    "\n",
    "y_train_pred=rf.predict(X_train_vectorized)\n",
    "\n",
    "\n",
    "print(confusion_matrix(y_train,y_train_pred))\n",
    "print(classification_report(y_train,y_train_pred))\n",
    "print(accuracy_score(y_train, y_train_pred))"
   ]
  },
  {
   "cell_type": "code",
   "execution_count": 31,
   "id": "3ea90d75",
   "metadata": {},
   "outputs": [
    {
     "name": "stdout",
     "output_type": "stream",
     "text": [
      "[[   4    0    0    3]\n",
      " [   0   65   28  184]\n",
      " [   0    8  723  134]\n",
      " [   2   67  131 3616]]\n",
      "                        precision    recall  f1-score   support\n",
      "\n",
      "Gibberish Undetectable       0.67      0.57      0.62         7\n",
      "           Hate Speech       0.46      0.23      0.31       277\n",
      " No Hate and Offensive       0.82      0.84      0.83       865\n",
      "    Offensive Language       0.92      0.95      0.93      3816\n",
      "\n",
      "              accuracy                           0.89      4965\n",
      "             macro avg       0.72      0.65      0.67      4965\n",
      "          weighted avg       0.88      0.89      0.88      4965\n",
      "\n",
      "0.8878147029204431\n"
     ]
    }
   ],
   "source": [
    "y_pred=rf.predict(X_test_vectorized)\n",
    "print(confusion_matrix(y_test,y_pred))\n",
    "print(classification_report(y_test,y_pred))\n",
    "print(accuracy_score(y_test, y_pred))"
   ]
  },
  {
   "cell_type": "code",
   "execution_count": 32,
   "id": "4574a72c",
   "metadata": {},
   "outputs": [],
   "source": [
    "# nepali_df  = np.load(\"pickel/nepaliclass.npz\", allow_pickle=True)\n",
    "# train_tfidf = nepali_df['arr_0']\n",
    "# test_tfidf = nepali_df['arr_1']\n",
    "# y_train = nepali_df['arr_2']\n",
    "# y_test = nepali_df['arr_3']\n",
    "# print(train_tfidf.shape)\n",
    "# print(y_train.shape)\n",
    "# print(test_tfidf.shape)\n",
    "# print(y_test.shape)\n",
    "#  ## To facilitate the ROC curve back, use label_binarize to encode the label\n",
    "# y_test_lb = label_binarize(y_test,classes=[0,1,2,3])"
   ]
  },
  {
   "cell_type": "code",
   "execution_count": 33,
   "id": "ee5a117b",
   "metadata": {},
   "outputs": [
    {
     "data": {
      "image/png": "[encoded data removed]",
      "text/plain": [
       "<Figure size 576x504 with 2 Axes>"
      ]
     },
     "metadata": {
      "needs_background": "light"
     },
     "output_type": "display_data"
    }
   ],
   "source": [
    "from sklearn.preprocessing import LabelEncoder,label_binarize\n",
    "from sklearn.metrics import roc_curve\n",
    "## Visualization of each category ROC curve\n",
    "lable_names = [\"Hate\",\"Offense\",\"Neither\", \"Gribbish\"]\n",
    "colors = [\"r\",\"b\",\"g\",\"m\",]\n",
    "linestyles =[\"-\", \"--\", \"-.\", \":\", \"-\"]\n",
    "pre_score = rf.predict_proba(X_train_vectorized)\n",
    "fig  = plt.figure(figsize=(8,7))\n",
    "for ii, color in zip(range(pre_score.shape[1]), colors):\n",
    "         ## Calculate the value of the ROC curve\n",
    "    y_test_lb = label_binarize(y_train,classes=[0,1,2,3,])\n",
    "    fpr_ii, tpr_ii, _ = roc_curve(y_test_lb[:,ii], pre_score[:,ii])\n",
    "    plt.plot(fpr_ii, tpr_ii,color = color,linewidth = 2,\n",
    "             linestyle = linestyles[ii],\n",
    "             label = \"class:\"+lable_names[ii])\n",
    "plt.plot([0, 1], [0, 1], 'k--')\n",
    "plt.xlabel (\"false positive rate\")\n",
    "plt.ylabel (\"Real Rate\")\n",
    "plt.xlim(0, 1)\n",
    "plt.ylim(0, 1)\n",
    "plt.grid()\n",
    "plt.legend()\n",
    "plt.title (\"ROC curve for each category\")\n",
    " ## Add partial enlarged map\n",
    "inset_ax = fig.add_axes([0.3, 0.45, 0.4, 0.4],facecolor=\"white\")\n",
    "for ii, color in zip(range(pre_score.shape[1]), colors):\n",
    "         ## Calculate the value of the ROC curve\n",
    "    fpr_ii, tpr_ii, _ = roc_curve(y_test_lb[:,ii], pre_score[:,ii])\n",
    "         ## Local enlargement\n",
    "    inset_ax.plot(fpr_ii, tpr_ii,color = color,linewidth = 2,\n",
    "                  linestyle = linestyles[ii])\n",
    "    inset_ax.set_xlim([-0.01,0.1])\n",
    "    inset_ax.set_ylim([0.88,1.01])\n",
    "    inset_ax.grid()\n",
    "plt.show()"
   ]
  },
  {
   "cell_type": "code",
   "execution_count": 34,
   "id": "0f92756a",
   "metadata": {},
   "outputs": [],
   "source": [
    "# from sklearn.metrics import roc_curve\n",
    "\n",
    "# # roc curve for models\n",
    "# fpr, tpr, thresh = roc_curve(y_test, rf.predict_proba(X_test_vectorized)[:, 3], pos_label=4)\n",
    "# # roc curve for tpr = fpr \n",
    "# random_probs = [0 for i in range(len(y_test))]\n",
    "# p_fpr, p_tpr, _ = roc_curve(y_test, random_probs, pos_label=1)\n",
    "# plt.figure(figsize=(12,10))\n",
    "# sns.lineplot(x=fpr,y=tpr,);\n",
    "\n",
    "# plt.xlabel(\"False Positive Rate\");\n",
    "# plt.ylabel(\"Sensitivity (TPR)\");"
   ]
  },
  {
   "cell_type": "code",
   "execution_count": 35,
   "id": "05ea3d14",
   "metadata": {},
   "outputs": [],
   "source": [
    "# from sklearn.metrics import roc_auc_score\n",
    "# roc_auc_score(y_test,multi_class='raise', rf.predict_proba(X_test_vectorized)[:, 1])"
   ]
  },
  {
   "cell_type": "code",
   "execution_count": 36,
   "id": "3a979d25",
   "metadata": {},
   "outputs": [],
   "source": [
    "# def plot_multiclass_roc(rf, X_test, y_test, n_classes, figsize=(17, 6)):\n",
    "#     y_score = rf.base_estimator_(X_test)\n",
    "\n",
    "#     # structures\n",
    "#     fpr = dict()\n",
    "#     tpr = dict()\n",
    "#     roc_auc = dict()\n",
    "\n",
    "#     # calculate dummies once\n",
    "#     y_test_dummies = pd.get_dummies(y_test, drop_first=False).values\n",
    "#     for i in range(n_classes):\n",
    "#         fpr[i], tpr[i], _ = roc_curve(y_test_dummies[:, i], y_score[:, i])\n",
    "#         roc_auc[i] = auc(fpr[i], tpr[i])\n",
    "\n",
    "#     # roc for each class\n",
    "#     fig, ax = plt.subplots(figsize=figsize)\n",
    "#     ax.plot([0, 1], [0, 1], 'k--')\n",
    "#     ax.set_xlim([0.0, 1.0])\n",
    "#     ax.set_ylim([0.0, 1.05])\n",
    "#     ax.set_xlabel('False Positive Rate')\n",
    "#     ax.set_ylabel('True Positive Rate')\n",
    "#     ax.set_title('Receiver operating characteristic example')\n",
    "#     for i in range(n_classes):\n",
    "#         ax.plot(fpr[i], tpr[i], label='ROC curve (area = %0.2f) for label %i' % (roc_auc[i], i))\n",
    "#     ax.legend(loc=\"best\")\n",
    "#     ax.grid(alpha=.4)\n",
    "#     sns.despine()\n",
    "#     plt.show()\n",
    "    \n",
    "# plot_multiclass_roc(rf_fit, X_test, y_test, n_classes=16, figsize=(16, 10))"
   ]
  },
  {
   "cell_type": "code",
   "execution_count": 37,
   "id": "6b810c74",
   "metadata": {},
   "outputs": [],
   "source": [
    "# pip install transformers"
   ]
  },
  {
   "cell_type": "code",
   "execution_count": 38,
   "id": "0bc565ef",
   "metadata": {},
   "outputs": [],
   "source": [
    "aug = naw.SynonymAug(aug_src='wordnet',aug_max=3)\n",
    "# aug = naw.ContextualWordEmbsAug(model_path='bert-base-uncased', action=\"substitute\",aug_max=3,temperature=0.5)"
   ]
  },
  {
   "cell_type": "code",
   "execution_count": 39,
   "id": "d235d667",
   "metadata": {},
   "outputs": [
    {
     "data": {
      "text/plain": [
       "7306        Offensive Language\n",
       "17399    No Hate and Offensive\n",
       "14093       Offensive Language\n",
       "22291       Offensive Language\n",
       "16348       Offensive Language\n",
       "                 ...          \n",
       "21575    No Hate and Offensive\n",
       "5390        Offensive Language\n",
       "860         Offensive Language\n",
       "15795       Offensive Language\n",
       "23654       Offensive Language\n",
       "Name: class, Length: 19857, dtype: object"
      ]
     },
     "execution_count": 39,
     "metadata": {},
     "output_type": "execute_result"
    }
   ],
   "source": [
    "y_train"
   ]
  },
  {
   "cell_type": "code",
   "execution_count": 40,
   "id": "1b0111c4",
   "metadata": {},
   "outputs": [
    {
     "data": {
      "text/plain": [
       "'racist month fuck u'"
      ]
     },
     "execution_count": 40,
     "metadata": {},
     "output_type": "execute_result"
    }
   ],
   "source": [
    "X_train[969]"
   ]
  },
  {
   "cell_type": "code",
   "execution_count": 41,
   "id": "50f862d9",
   "metadata": {},
   "outputs": [
    {
     "data": {
      "text/plain": [
       "0"
      ]
     },
     "execution_count": 41,
     "metadata": {},
     "output_type": "execute_result"
    }
   ],
   "source": [
    "sum(y_train==0)"
   ]
  },
  {
   "cell_type": "code",
   "execution_count": 42,
   "id": "882e0bee",
   "metadata": {},
   "outputs": [],
   "source": [
    "augmented_sentences=[]\n",
    "augmented_sentences_labels=[]\n",
    "for i in X_train.index:\n",
    "  if y_train[i]==0:\n",
    "    temps=aug.augment(X_train[i],n=2)\n",
    "    for sent in temps:\n",
    "      augmented_sentences.append(sent)\n",
    "      augmented_sentences_labels.append(0)"
   ]
  },
  {
   "cell_type": "code",
   "execution_count": 43,
   "id": "516f1f3c",
   "metadata": {},
   "outputs": [],
   "source": [
    "data=pd.read_csv(\"src/neplai_words.csv\",encoding= 'unicode_escape')"
   ]
  },
  {
   "cell_type": "code",
   "execution_count": 44,
   "id": "6cf1ce49",
   "metadata": {},
   "outputs": [
    {
     "data": {
      "text/plain": [
       "[]"
      ]
     },
     "execution_count": 44,
     "metadata": {},
     "output_type": "execute_result"
    }
   ],
   "source": [
    "sorted([len(i) for i in data.loc[data['class']==3]['tweet']])\n",
    "([i for i in data.loc[data['class']==3]['tweet'] if len(i)==10])"
   ]
  },
  {
   "cell_type": "code",
   "execution_count": 45,
   "id": "bea30706",
   "metadata": {},
   "outputs": [
    {
     "name": "stdout",
     "output_type": "stream",
     "text": [
      "(19857,)\n",
      "(19857,)\n"
     ]
    }
   ],
   "source": [
    "X_train=X_train.append(pd.Series(augmented_sentences),ignore_index=True)\n",
    "y_train=y_train.append(pd.Series(augmented_sentences_labels),ignore_index=True)\n",
    "\n",
    "print(X_train.shape)\n",
    "print(y_train.shape)"
   ]
  },
  {
   "cell_type": "code",
   "execution_count": 46,
   "id": "16bd28bb",
   "metadata": {},
   "outputs": [
    {
     "data": {
      "text/plain": [
       "RandomForestClassifier(n_estimators=10)"
      ]
     },
     "execution_count": 46,
     "metadata": {},
     "output_type": "execute_result"
    }
   ],
   "source": [
    "vectorizer = TfidfVectorizer(min_df=3,analyzer='word',max_features=10000)\n",
    "X_train_vectorized = vectorizer.fit_transform(X_train)\n",
    "X_test_vectorized=vectorizer.transform(X_test)\n",
    "rf=RandomForestClassifier(n_estimators=10)\n",
    "\n",
    "rf.fit(X_train_vectorized,y_train)"
   ]
  },
  {
   "cell_type": "code",
   "execution_count": 47,
   "id": "9fbd332a",
   "metadata": {},
   "outputs": [
    {
     "name": "stdout",
     "output_type": "stream",
     "text": [
      "[[   26     0     0     9]\n",
      " [    0  1072    12    68]\n",
      " [    0     1  3256    40]\n",
      " [    0    27    49 15297]]\n",
      "                        precision    recall  f1-score   support\n",
      "\n",
      "Gibberish Undetectable       1.00      0.74      0.85        35\n",
      "           Hate Speech       0.97      0.93      0.95      1152\n",
      " No Hate and Offensive       0.98      0.99      0.98      3297\n",
      "    Offensive Language       0.99      1.00      0.99     15373\n",
      "\n",
      "              accuracy                           0.99     19857\n",
      "             macro avg       0.99      0.91      0.95     19857\n",
      "          weighted avg       0.99      0.99      0.99     19857\n",
      "\n",
      "0.9896258246462205\n"
     ]
    }
   ],
   "source": [
    "from sklearn.metrics import classification_report, confusion_matrix, accuracy_score\n",
    "\n",
    "y_train_pred=rf.predict(X_train_vectorized)\n",
    "\n",
    "\n",
    "print(confusion_matrix(y_train,y_train_pred))\n",
    "print(classification_report(y_train,y_train_pred))\n",
    "print(accuracy_score(y_train, y_train_pred))"
   ]
  },
  {
   "cell_type": "code",
   "execution_count": 48,
   "id": "44ee9a03",
   "metadata": {},
   "outputs": [
    {
     "name": "stdout",
     "output_type": "stream",
     "text": [
      "[[   4    0    0    3]\n",
      " [   0   47   28  202]\n",
      " [   0    7  721  137]\n",
      " [   0   52  132 3632]]\n",
      "                        precision    recall  f1-score   support\n",
      "\n",
      "Gibberish Undetectable       1.00      0.57      0.73         7\n",
      "           Hate Speech       0.44      0.17      0.25       277\n",
      " No Hate and Offensive       0.82      0.83      0.83       865\n",
      "    Offensive Language       0.91      0.95      0.93      3816\n",
      "\n",
      "              accuracy                           0.89      4965\n",
      "             macro avg       0.79      0.63      0.68      4965\n",
      "          weighted avg       0.87      0.89      0.88      4965\n",
      "\n",
      "0.8870090634441088\n"
     ]
    }
   ],
   "source": [
    "y_pred=rf.predict(X_test_vectorized)\n",
    "print(confusion_matrix(y_test,y_pred))\n",
    "print(classification_report(y_test,y_pred))\n",
    "print(accuracy_score(y_test, y_pred))"
   ]
  },
  {
   "cell_type": "code",
   "execution_count": 49,
   "id": "6f35a58b",
   "metadata": {},
   "outputs": [],
   "source": [
    "# from sklearn.metrics import roc_curve\n",
    "\n",
    "# # roc curve for models\n",
    "# fpr, tpr, thresh = roc_curve(y_test, rf.predict_proba(X_test_vectorized)[:, 1], pos_label=1)\n",
    "# # roc curve for tpr = fpr \n",
    "# random_probs = [0 for i in range(len(y_test))]\n",
    "# p_fpr, p_tpr, _ = roc_curve(y_test, random_probs, pos_label=1)\n",
    "# plt.figure(figsize=(12,10))\n",
    "# sns.lineplot(x=fpr,y=tpr,);\n",
    "\n",
    "# plt.xlabel(\"False Positive Rate\");\n",
    "# plt.ylabel(\"Sensitivity (TPR)\");"
   ]
  },
  {
   "cell_type": "code",
   "execution_count": 50,
   "id": "a71b70e6",
   "metadata": {},
   "outputs": [],
   "source": [
    "# roc_auc_score(y_test, rf.predict_proba(X_test_vectorized)[:, 1])"
   ]
  },
  {
   "cell_type": "code",
   "execution_count": 51,
   "id": "932dd9d0",
   "metadata": {},
   "outputs": [
    {
     "data": {
      "image/png": "[encoded data removed]",
      "text/plain": [
       "<Figure size 576x504 with 2 Axes>"
      ]
     },
     "metadata": {
      "needs_background": "light"
     },
     "output_type": "display_data"
    }
   ],
   "source": [
    "from sklearn.preprocessing import LabelEncoder,label_binarize\n",
    "from sklearn.metrics import roc_curve\n",
    "## Visualization of each category ROC curve\n",
    "lable_names = [\"Hate\",\"Offense\",\"Neither\", \"Gribbish\"]\n",
    "colors = [\"r\",\"b\",\"g\",\"m\",]\n",
    "linestyles =[\"-\", \"--\", \"-.\", \":\", \"-\"]\n",
    "pre_score = rf.predict_proba(X_test_vectorized)\n",
    "fig  = plt.figure(figsize=(8,7))\n",
    "for ii, color in zip(range(pre_score.shape[1]), colors):\n",
    "         ## Calculate the value of the ROC curve\n",
    "    y_test_lb = label_binarize(y_test,classes=[0,1,2,3,])\n",
    "    fpr_ii, tpr_ii, _ = roc_curve(y_test_lb[:,ii], pre_score[:,ii])\n",
    "    plt.plot(fpr_ii, tpr_ii,color = color,linewidth = 2,\n",
    "             linestyle = linestyles[ii],\n",
    "             label = \"class:\"+lable_names[ii])\n",
    "plt.plot([0, 1], [0, 1], 'k--')\n",
    "plt.xlabel (\"false positive rate\")\n",
    "plt.ylabel (\"Real Rate\")\n",
    "plt.xlim(0, 1)\n",
    "plt.ylim(0, 1)\n",
    "plt.grid()\n",
    "plt.legend()\n",
    "plt.title (\"ROC curve for each category\")\n",
    " ## Add partial enlarged map\n",
    "inset_ax = fig.add_axes([0.3, 0.45, 0.4, 0.4],facecolor=\"white\")\n",
    "for ii, color in zip(range(pre_score.shape[1]), colors):\n",
    "         ## Calculate the value of the ROC curve\n",
    "    fpr_ii, tpr_ii, _ = roc_curve(y_test_lb[:,ii], pre_score[:,ii])\n",
    "         ## Local enlargement\n",
    "    inset_ax.plot(fpr_ii, tpr_ii,color = color,linewidth = 2,\n",
    "                  linestyle = linestyles[ii])\n",
    "    inset_ax.set_xlim([-0.01,0.1])\n",
    "    inset_ax.set_ylim([0.88,1.01])\n",
    "    inset_ax.grid()\n",
    "plt.show()"
   ]
  },
  {
   "cell_type": "code",
   "execution_count": 52,
   "id": "16659904",
   "metadata": {},
   "outputs": [
    {
     "data": {
      "text/plain": [
       "(24819, 2)"
      ]
     },
     "execution_count": 52,
     "metadata": {},
     "output_type": "execute_result"
    }
   ],
   "source": [
    "data.shape"
   ]
  },
  {
   "cell_type": "code",
   "execution_count": null,
   "id": "9d4ace7b",
   "metadata": {},
   "outputs": [],
   "source": []
  }
 ],
 "metadata": {
  "kernelspec": {
   "display_name": "Python 3",
   "language": "python",
   "name": "python3"
  },
  "language_info": {
   "codemirror_mode": {
    "name": "ipython",
    "version": 3
   },
   "file_extension": ".py",
   "mimetype": "text/x-python",
   "name": "python",
   "nbconvert_exporter": "python",
   "pygments_lexer": "ipython3",
   "version": "3.9.5"
  }
 },
 "nbformat": 4,
 "nbformat_minor": 5
}